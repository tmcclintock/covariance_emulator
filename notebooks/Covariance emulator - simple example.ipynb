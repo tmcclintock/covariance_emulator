{
 "cells": [
  {
   "cell_type": "markdown",
   "metadata": {},
   "source": [
    "# Covariance matrix emulator\n",
    "\n",
    "The covariance matrix emulator predicts a covariance matrix given a set of input covariance matrices that depend on some underlying variables. This notebook tests the emulator on a simple model - linear scaling of the covariance matrix on a constant.\n",
    "$$\n",
    "C(A) = AC_0\\,,\n",
    "$$\n",
    "where $A$ is the scale parameter, and $C_0$ is some fiducial covariance matrix."
   ]
  },
  {
   "cell_type": "code",
   "execution_count": 1,
   "metadata": {},
   "outputs": [],
   "source": [
    "import numpy as np\n",
    "import matplotlib.pyplot as plt\n",
    "import covariance_emulator as ce\n",
    "%matplotlib inline"
   ]
  },
  {
   "cell_type": "markdown",
   "metadata": {},
   "source": [
    "## Test 1 - scaling the identity matrix\n",
    "\n",
    "The most simple example will have $C_0 = \\mathbf{I}$."
   ]
  },
  {
   "cell_type": "code",
   "execution_count": 2,
   "metadata": {},
   "outputs": [],
   "source": [
    "ndim = 6 #Covariances will be ndim X ndim in size\n",
    "parameters = np.arange(1,10)\n",
    "Cs = np.array([p*np.identity(ndim) for p in parameters])"
   ]
  },
  {
   "cell_type": "code",
   "execution_count": 3,
   "metadata": {},
   "outputs": [
    {
     "name": "stdout",
     "output_type": "stream",
     "text": [
      "((9, 6), (6,), (6, 6), (9, 6))\n",
      "((9, 9), (9,), (9, 15), (9, 15))\n"
     ]
    }
   ],
   "source": [
    "Emu = ce.CovEmu(parameters, Cs)"
   ]
  },
  {
   "cell_type": "code",
   "execution_count": 4,
   "metadata": {},
   "outputs": [
    {
     "name": "stdout",
     "output_type": "stream",
     "text": [
      "[[5.49779516 0.         0.         0.         0.         0.        ]\n",
      " [0.         5.49779516 0.         0.         0.         0.        ]\n",
      " [0.         0.         5.49779516 0.         0.         0.        ]\n",
      " [0.         0.         0.         5.49779516 0.         0.        ]\n",
      " [0.         0.         0.         0.         5.49779516 0.        ]\n",
      " [0.         0.         0.         0.         0.         5.49779516]]\n"
     ]
    }
   ],
   "source": [
    "test_parameter = 5.5\n",
    "Cpredicted = Emu.predict(test_parameter)\n",
    "print(Cpredicted)"
   ]
  },
  {
   "cell_type": "code",
   "execution_count": 5,
   "metadata": {},
   "outputs": [
    {
     "name": "stdout",
     "output_type": "stream",
     "text": [
      "[0.00040088 0.00040088 0.00040088 0.00040088 0.00040088 0.00040088]\n"
     ]
    }
   ],
   "source": [
    "Ctrue = test_parameter * np.identity(ndim)\n",
    "diff = Ctrue - Cpredicted\n",
    "print(diff[np.nonzero(diff)]/Ctrue.diagonal())"
   ]
  },
  {
   "cell_type": "markdown",
   "metadata": {},
   "source": [
    "## Success!\n",
    "\n",
    "The elements of the covariance are predicted to  ~0.04%."
   ]
  },
  {
   "cell_type": "markdown",
   "metadata": {},
   "source": [
    "## Test 2 - scaling a matrix with linearly increasing variances\n",
    "\n",
    "Let's suppose that the diagonal is now a linear function, e.g.\n",
    "$$\n",
    "C_{0}^{ii} = i+1\n",
    "$$\n",
    "and we have the same scaling with $A$. Let's try to recover the true matrix."
   ]
  },
  {
   "cell_type": "code",
   "execution_count": 6,
   "metadata": {},
   "outputs": [],
   "source": [
    "Cs = np.array([p*np.diag(np.arange(1,ndim+1)) for p in parameters])"
   ]
  },
  {
   "cell_type": "code",
   "execution_count": 7,
   "metadata": {},
   "outputs": [
    {
     "name": "stdout",
     "output_type": "stream",
     "text": [
      "((9, 6), (6,), (6, 6), (9, 6))\n",
      "((9, 9), (9,), (9, 15), (9, 15))\n",
      "[0.00040088 0.00040088 0.00040088 0.00040088 0.00040088 0.00040088]\n"
     ]
    }
   ],
   "source": [
    "Emu = ce.CovEmu(parameters, Cs)\n",
    "test_parameter = 5.5\n",
    "Cpredicted = Emu.predict(test_parameter)\n",
    "Ctrue = test_parameter * np.diag(np.arange(1,ndim+1))\n",
    "diff = Ctrue - Cpredicted\n",
    "print(diff[np.nonzero(diff)]/Ctrue.diagonal())"
   ]
  },
  {
   "cell_type": "code",
   "execution_count": 8,
   "metadata": {},
   "outputs": [
    {
     "name": "stdout",
     "output_type": "stream",
     "text": [
      "((9, 6), (6,), (6, 6), (9, 6))\n",
      "((9, 9), (9,), (9, 15), (9, 15))\n",
      "[0.00040088 0.00040088 0.00040088 0.00040088 0.00040088 0.00040088]\n"
     ]
    }
   ],
   "source": [
    "Emu = ce.CovEmu(parameters, Cs, NPC_D=2)\n",
    "test_parameter = 5.5\n",
    "Cpredicted = Emu.predict(test_parameter)\n",
    "Ctrue = test_parameter * np.diag(np.arange(1,ndim+1))\n",
    "diff = Ctrue - Cpredicted\n",
    "print(diff[np.nonzero(diff)]/Ctrue.diagonal())"
   ]
  },
  {
   "cell_type": "markdown",
   "metadata": {},
   "source": [
    "## Interesting - required more Principle Components\n",
    "\n",
    "Notice that the emulator did awful when we built it with the default number of principle components (one), but much better when we used two principle components. This makes sense, since as the covariance matrix (specifically, the diagonal) had more structure it requires more PCs to describe its behavior."
   ]
  },
  {
   "cell_type": "markdown",
   "metadata": {},
   "source": [
    "## Test 3 - scaling a matrix with exponentially increasing variances\n",
    "\n",
    "Real astronomical data is measured over a range of scales. Because of this, errorbars can be orders of magnitude different. Let's pretend that the variance has the form\n",
    "$$\n",
    "C_{0}^{ii} = e^i\n",
    "$$\n",
    "and we have the same scaling with $A$. Let's try to recover the true matrix again."
   ]
  },
  {
   "cell_type": "code",
   "execution_count": 9,
   "metadata": {},
   "outputs": [],
   "source": [
    "Cs = np.array([p*np.diag(np.exp(np.arange(1,ndim+1))) for p in parameters])"
   ]
  },
  {
   "cell_type": "code",
   "execution_count": 10,
   "metadata": {},
   "outputs": [
    {
     "name": "stdout",
     "output_type": "stream",
     "text": [
      "((9, 6), (6,), (6, 6), (9, 6))\n",
      "((9, 9), (9,), (9, 15), (9, 15))\n",
      "[0.00040088 0.00040088 0.00040088 0.00040088 0.00040088 0.00040088]\n"
     ]
    }
   ],
   "source": [
    "Emu = ce.CovEmu(parameters, Cs)\n",
    "test_parameter = 5.5\n",
    "Cpredicted = Emu.predict(test_parameter)\n",
    "Ctrue = test_parameter * np.diag(np.exp(np.arange(1,ndim+1)))\n",
    "diff = Ctrue - Cpredicted\n",
    "print(diff[np.nonzero(diff)]/Ctrue.diagonal())"
   ]
  },
  {
   "cell_type": "markdown",
   "metadata": {},
   "source": [
    "### Bad\n",
    "\n",
    "We need more principle components. But even still, the emulator predicts at the ~25% level."
   ]
  },
  {
   "cell_type": "code",
   "execution_count": 11,
   "metadata": {},
   "outputs": [
    {
     "name": "stdout",
     "output_type": "stream",
     "text": [
      "((9, 6), (6,), (6, 6), (9, 6))\n",
      "((9, 9), (9,), (9, 15), (9, 15))\n",
      "[0.00040088 0.00040088 0.00040088 0.00040088 0.00040088 0.00040088]\n"
     ]
    }
   ],
   "source": [
    "Emu = ce.CovEmu(parameters, Cs, NPC_D=2)\n",
    "test_parameter = 5.5\n",
    "Cpredicted = Emu.predict(test_parameter)\n",
    "Ctrue = test_parameter * np.diag(np.exp(np.arange(1,ndim+1)))\n",
    "diff = Ctrue - Cpredicted\n",
    "print(diff[np.nonzero(diff)]/Ctrue.diagonal())"
   ]
  },
  {
   "cell_type": "markdown",
   "metadata": {},
   "source": [
    "### Success again\n",
    "\n",
    "We can see that despite different behaviors of the diagonals of the covariance matrices, the emulator can successfully make predictions, as long as there are enough principle components."
   ]
  },
  {
   "cell_type": "code",
   "execution_count": null,
   "metadata": {},
   "outputs": [],
   "source": []
  }
 ],
 "metadata": {
  "kernelspec": {
   "display_name": "Python 2",
   "language": "python",
   "name": "python2"
  },
  "language_info": {
   "codemirror_mode": {
    "name": "ipython",
    "version": 2
   },
   "file_extension": ".py",
   "mimetype": "text/x-python",
   "name": "python",
   "nbconvert_exporter": "python",
   "pygments_lexer": "ipython2",
   "version": "2.7.15"
  }
 },
 "nbformat": 4,
 "nbformat_minor": 2
}
