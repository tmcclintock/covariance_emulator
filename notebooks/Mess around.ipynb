{
 "cells": [
  {
   "cell_type": "code",
   "execution_count": 1,
   "metadata": {},
   "outputs": [],
   "source": [
    "import numpy as np\n",
    "from scipy import stats\n",
    "import covariance_emulator\n",
    "import covariance_breakdown as cb\n",
    "import matplotlib.pyplot as plt\n",
    "%matplotlib inline"
   ]
  },
  {
   "cell_type": "code",
   "execution_count": 2,
   "metadata": {},
   "outputs": [],
   "source": [
    "covs = np.load(\"gaussian_xipgammaw_sub_covs_withcut.npy\")"
   ]
  },
  {
   "cell_type": "code",
   "execution_count": 3,
   "metadata": {},
   "outputs": [],
   "source": [
    "c = covs[-1]\n",
    "#covs = covs[:-1]"
   ]
  },
  {
   "cell_type": "code",
   "execution_count": 4,
   "metadata": {},
   "outputs": [
    {
     "name": "stdout",
     "output_type": "stream",
     "text": [
      "1.651153e+08\n"
     ]
    },
    {
     "data": {
      "text/plain": [
       "[<matplotlib.lines.Line2D at 0x1a1a236250>]"
      ]
     },
     "execution_count": 4,
     "metadata": {},
     "output_type": "execute_result"
    },
    {
     "data": {
      "image/png": "[encoded data removed]",
      "text/plain": [
       "<matplotlib.figure.Figure at 0x1083e74d0>"
      ]
     },
     "metadata": {},
     "output_type": "display_data"
    }
   ],
   "source": [
    "w1, v1 = np.linalg.eig(c)\n",
    "print(\"%e\"%(max(w1)/min(w1)))\n",
    "#w2, v2 = np.linalg.eig(c2)\n",
    "#print(\"%e\"%(max(w2)/min(w2)))\n",
    "\n",
    "plt.plot(np.log(w1))\n",
    "#plt.plot(np.log(w2), \"--\")"
   ]
  },
  {
   "cell_type": "code",
   "execution_count": 5,
   "metadata": {},
   "outputs": [
    {
     "name": "stdout",
     "output_type": "stream",
     "text": [
      "(337, 56616)\n"
     ]
    }
   ],
   "source": [
    "Nc = len(covs)\n",
    "ND = len(c[0])\n",
    "NL = int(ND*(ND-1)/2)\n",
    "print(ND,NL)\n",
    "Ds = np.zeros((Nc, ND))\n",
    "Lps = np.zeros((Nc, NL))\n",
    "for i in range(Nc):\n",
    "    b = cb.breakdown(covs[i], unravel_diagonally=True)\n",
    "    Ds[i] = b.D\n",
    "    Lps[i] = b.Lprime"
   ]
  },
  {
   "cell_type": "code",
   "execution_count": 12,
   "metadata": {},
   "outputs": [
    {
     "name": "stdout",
     "output_type": "stream",
     "text": [
      "(337,)\n"
     ]
    }
   ],
   "source": [
    "lnDs = np.log(Ds)\n",
    "lnDm = np.mean(lnDs, 0)\n",
    "print(lnDm.shape)\n",
    "lnDsig = np.std(lnDs)\n",
    "lDs = (lnDs - lnDm)/lnDsig\n",
    "\n",
    "Lpm = np.mean(Lps)\n",
    "Lpsig = np.std(Lps)\n",
    "LP = (Lps-Lpm)/Lpsig\n",
    "uL, sL, vL = np.linalg.svd(LP, 0)"
   ]
  },
  {
   "cell_type": "code",
   "execution_count": 7,
   "metadata": {},
   "outputs": [],
   "source": [
    "#Define a function to reconstruct matrix i after the PCA\n",
    "def get_ci(i):\n",
    "    z = np.zeros(Nc)\n",
    "    print(lDs.shape)\n",
    "    uD, sD, vD = np.linalg.svd(lDs)\n",
    "    sD = np.diag(sD)\n",
    "    for ind in range(Nc, len(vD)):\n",
    "        sD = np.vstack((sD,z))\n",
    "        #print(sD.shape)\n",
    "    sD = sD.T\n",
    "    print(uD.shape, sD.shape, vD.shape)\n",
    "    rlDs = np.dot(uD, np.dot(sD, vD))\n",
    "    rDs = np.exp(rlDs * lnDsig + lnDm)\n",
    "    print(LP.shape)\n",
    "\n",
    "    uL, sL, vL = np.linalg.svd(LP, 0)\n",
    "    print(uL.shape, sL.shape, vL.shape)\n",
    "    sL = np.diag(sL)\n",
    "    print(uL.shape, sL.shape, vL.shape)\n",
    "    rLL = np.dot(uL, np.dot(sL, vL))\n",
    "    rLP = rLL * Lpsig + Lpm\n",
    "    Di = rDs[i]\n",
    "    Lpi = rLP[i]\n",
    "    print(Di.shape, Lpi.shape)\n",
    "    rb = cb.breakdown.from_D_Lprime(Di, Lpi, True)\n",
    "    return rb.C"
   ]
  },
  {
   "cell_type": "code",
   "execution_count": 9,
   "metadata": {},
   "outputs": [
    {
     "name": "stdout",
     "output_type": "stream",
     "text": [
      "(25, 337)\n",
      "((25, 25), (25, 337), (337, 337))\n",
      "(25, 56616)\n",
      "((25, 25), (25,), (25, 56616))\n",
      "((25, 25), (25, 25), (25, 56616))\n",
      "((337,), (56616,))\n",
      "1.651153e+08\n",
      "1.651153e+08\n"
     ]
    },
    {
     "data": {
      "text/plain": [
       "[<matplotlib.lines.Line2D at 0x1a1b756a10>]"
      ]
     },
     "execution_count": 9,
     "metadata": {},
     "output_type": "execute_result"
    },
    {
     "data": {
      "image/png": "[encoded data removed]",
      "text/plain": [
       "<matplotlib.figure.Figure at 0x1a1b756e10>"
      ]
     },
     "metadata": {},
     "output_type": "display_data"
    }
   ],
   "source": [
    "c = covs[-1]\n",
    "c2 = get_ci(-1)\n",
    "w1, v1 = np.linalg.eig(c)\n",
    "print(\"%e\"%(max(w1)/min(w1)))\n",
    "w2, v2 = np.linalg.eig(c2)\n",
    "print(\"%e\"%(max(w2)/min(w2)))\n",
    "\n",
    "plt.plot(np.log(w1))\n",
    "plt.plot(np.log(w2), \"--\")"
   ]
  },
  {
   "cell_type": "code",
   "execution_count": null,
   "metadata": {},
   "outputs": [],
   "source": []
  }
 ],
 "metadata": {
  "kernelspec": {
   "display_name": "Python 2",
   "language": "python",
   "name": "python2"
  },
  "language_info": {
   "codemirror_mode": {
    "name": "ipython",
    "version": 2
   },
   "file_extension": ".py",
   "mimetype": "text/x-python",
   "name": "python",
   "nbconvert_exporter": "python",
   "pygments_lexer": "ipython2",
   "version": "2.7.13"
  }
 },
 "nbformat": 4,
 "nbformat_minor": 2
}
