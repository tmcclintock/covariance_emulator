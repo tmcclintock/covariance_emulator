{
 "cells": [
  {
   "cell_type": "markdown",
   "metadata": {},
   "source": [
    "# Covariance matrix emulator\n",
    "\n",
    "This notebook will run through similar exercises as the basic example, but will demonstrate that the emulator can successfully predict the off-diagonals."
   ]
  },
  {
   "cell_type": "code",
   "execution_count": 1,
   "metadata": {},
   "outputs": [],
   "source": [
    "import numpy as np\n",
    "import matplotlib.pyplot as plt\n",
    "%matplotlib inline"
   ]
  },
  {
   "cell_type": "code",
   "execution_count": 2,
   "metadata": {},
   "outputs": [],
   "source": [
    "import covariance_emulator as ce"
   ]
  },
  {
   "cell_type": "markdown",
   "metadata": {},
   "source": [
    "## Basic covariance matrix with off-diagonals\n",
    "\n",
    "Let's start with a basic covariance matrix with off-diagonals defined by\n",
    "$$\n",
    "C_0^{ij} = e^{-|i-j|}\\,,\n",
    "$$\n",
    "this way it is always invertible."
   ]
  },
  {
   "cell_type": "code",
   "execution_count": 3,
   "metadata": {},
   "outputs": [],
   "source": [
    "ndim = 3 #matrices will be ndim X ndim\n",
    "C0 = np.zeros((ndim,ndim))\n",
    "for i in range(0,ndim):\n",
    "    for j in range(i,ndim):\n",
    "        C0[i,j] = C0[j,i] = np.exp(-np.fabs(i-j))"
   ]
  },
  {
   "cell_type": "markdown",
   "metadata": {},
   "source": [
    "## Test 1 - linear scaling\n",
    "\n",
    "The first test will have linear scaling with a paramter $C(A) = AC_0$."
   ]
  },
  {
   "cell_type": "code",
   "execution_count": 4,
   "metadata": {},
   "outputs": [],
   "source": [
    "parameters = np.arange(1,10)\n",
    "Cs = [p*C0 for p in parameters]"
   ]
  },
  {
   "cell_type": "code",
   "execution_count": 5,
   "metadata": {},
   "outputs": [],
   "source": [
    "Emu = ce.CovEmu(parameters, Cs)"
   ]
  },
  {
   "cell_type": "code",
   "execution_count": 6,
   "metadata": {},
   "outputs": [],
   "source": [
    "test_parameter = 5.5\n",
    "Ctrue = test_parameter*C0"
   ]
  },
  {
   "cell_type": "code",
   "execution_count": 7,
   "metadata": {},
   "outputs": [
    {
     "name": "stdout",
     "output_type": "stream",
     "text": [
      "[[4.98984503 1.8356614  0.67530209]\n",
      " [1.8356614  5.66514712 2.08409116]\n",
      " [0.67530209 2.08409116 5.75653932]]\n"
     ]
    }
   ],
   "source": [
    "Cpredicted = Emu.predict(test_parameter)\n",
    "print(Cpredicted)"
   ]
  },
  {
   "cell_type": "code",
   "execution_count": 8,
   "metadata": {},
   "outputs": [],
   "source": [
    "#Define a function to pull out just the off-diagonals and compute the fractional differences\n",
    "def get_fracdiff_in_offdiag(C1, C2, ndim):\n",
    "    D = C1 - C2\n",
    "    out = np.zeros(int(ndim*(ndim-1)/2))\n",
    "    k = 0\n",
    "    for i in range(1,ndim):\n",
    "        for j in range(0,i):\n",
    "            out[k] = D[i,j]/C1[i,j]\n",
    "            k+=1\n",
    "    return out"
   ]
  },
  {
   "cell_type": "code",
   "execution_count": 9,
   "metadata": {},
   "outputs": [
    {
     "name": "stdout",
     "output_type": "stream",
     "text": [
      "[ 0.09275545  0.09275545 -0.03002675]\n"
     ]
    }
   ],
   "source": [
    "diff = get_fracdiff_in_offdiag(Ctrue,Cpredicted,ndim)\n",
    "print(diff)"
   ]
  },
  {
   "cell_type": "markdown",
   "metadata": {},
   "source": [
    "### Bad?\n",
    "\n",
    "This is pretty bad, but remember that by default the emulator is building things with one principle component. Let's try more and see how it does."
   ]
  },
  {
   "cell_type": "code",
   "execution_count": 10,
   "metadata": {},
   "outputs": [
    {
     "name": "stdout",
     "output_type": "stream",
     "text": [
      "Fractional differences in off-diagonals:\n",
      "[0.00040085 0.00040085 0.00040085]\n",
      "C(A) predicted:\n",
      "[[5.49779531 2.02252587 0.74404569]\n",
      " [2.02252587 5.49779531 2.02252587]\n",
      " [0.74404569 2.02252587 5.49779531]]\n"
     ]
    }
   ],
   "source": [
    "Emu = ce.CovEmu(parameters, Cs, NPC_D=2, NPC_L=1)\n",
    "Cpredicted = Emu.predict(test_parameter)\n",
    "print(\"Fractional differences in off-diagonals:\")\n",
    "print(get_fracdiff_in_offdiag(Ctrue,Cpredicted,ndim))\n",
    "print(\"C(A) predicted:\")\n",
    "print(Cpredicted)"
   ]
  },
  {
   "cell_type": "markdown",
   "metadata": {},
   "source": [
    "### Interesting\n",
    "\n",
    "This is interesting. Recalling that in the LDL Cholesky decompisition, D and L don't have *only* information about the diagonals and off-diagonals, respectively. In fact, they both D and L contain information about both sets of elements. What we see here, is that given the smooth behavior of the covariance matrix, the emulator is improved just by increasing the number of principle components for D, and not L. Increasing the number of principle components to describe L yields only a marginal increase in accuracy."
   ]
  },
  {
   "cell_type": "markdown",
   "metadata": {},
   "source": [
    "## Test 2 - peakiness\n",
    "\n",
    "A covariance matrix property we can test is how \"peaky\" it is. This will be done by parameterizing the matrices like so:\n",
    "$$\n",
    "C^{ij}(A) = e^{-A|i-j|}C_0\\,.\n",
    "$$\n",
    "In this way, matrices with larger parameters $A$ will be smoother than $C_0$."
   ]
  },
  {
   "cell_type": "code",
   "execution_count": 11,
   "metadata": {},
   "outputs": [],
   "source": [
    "def get_CA(A,C0):\n",
    "    C_ = np.zeros((ndim,ndim))\n",
    "    for i in range(0,ndim):\n",
    "        for j in range(i,ndim):\n",
    "            C_[i,j] = C_[j,i] = np.exp(-A*np.fabs(i-j))\n",
    "    return C_*C0\n",
    "Cs = [get_CA(p,C0) for p in parameters]\n",
    "Ctrue = get_CA(test_parameter,C0)"
   ]
  },
  {
   "cell_type": "code",
   "execution_count": 12,
   "metadata": {},
   "outputs": [
    {
     "name": "stdout",
     "output_type": "stream",
     "text": [
      "Fractional differences in off-diagonals:\n",
      "[-1.13456698e-01 -2.78558186e+02 -1.13909446e-01]\n"
     ]
    }
   ],
   "source": [
    "Emu = ce.CovEmu(parameters, Cs, NPC_D=2, NPC_L=2)\n",
    "Cpredicted = Emu.predict(test_parameter)\n",
    "print(\"Fractional differences in off-diagonals:\")\n",
    "print(get_fracdiff_in_offdiag(Ctrue,Cpredicted,ndim))"
   ]
  },
  {
   "cell_type": "markdown",
   "metadata": {},
   "source": [
    "## Oh no! (oh... wait)\n",
    "\n",
    "It looks like the emulator is doing poorly, but this is deceptive. The emulator is actually doing just fine, the problem is that it is trying to predict a very small number. The ratio of the diagonal to the most off-diagonal is 1e-6, and the emulator is predicting 1e-4. This is almost certaintly not going to matter for a real analysis. Encouragingly, when the ratio is 1e-3, the prediction is at the 10% level. So it would appear that things are working fine."
   ]
  },
  {
   "cell_type": "code",
   "execution_count": 13,
   "metadata": {},
   "outputs": [
    {
     "name": "stdout",
     "output_type": "stream",
     "text": [
      "[-1.13456698e-01 -2.78558186e+02 -1.13909446e-01]\n"
     ]
    }
   ],
   "source": [
    "print(get_fracdiff_in_offdiag(Ctrue,Cpredicted,ndim))"
   ]
  },
  {
   "cell_type": "code",
   "execution_count": 14,
   "metadata": {},
   "outputs": [
    {
     "name": "stdout",
     "output_type": "stream",
     "text": [
      "[[1.00000000e+00 1.50343919e-03 2.26032941e-06]\n",
      " [1.50343919e-03 1.00000000e+00 1.50343919e-03]\n",
      " [2.26032941e-06 1.50343919e-03 1.00000000e+00]]\n"
     ]
    }
   ],
   "source": [
    "print(Ctrue)"
   ]
  },
  {
   "cell_type": "code",
   "execution_count": 15,
   "metadata": {},
   "outputs": [
    {
     "name": "stdout",
     "output_type": "stream",
     "text": [
      "[[1.00000000e+00 1.67401444e-03 6.31893588e-04]\n",
      " [1.67401444e-03 9.99777523e-01 1.67469512e-03]\n",
      " [6.31893588e-04 1.67469512e-03 9.99777922e-01]]\n"
     ]
    }
   ],
   "source": [
    "print(Cpredicted)"
   ]
  },
  {
   "cell_type": "markdown",
   "metadata": {},
   "source": [
    "## Test 3 - scaled off diagonals\n",
    "\n",
    "In the previous examples, the scaling effected both the diagonals and off diagonals. Let's try something new with\n",
    "$$\n",
    "C^{ii}(A) = \\bf{I}\n",
    "$$\n",
    "$$\n",
    "C^{i\\neq j}(A) = A\\times10^{-2}\\,.\n",
    "$$\n",
    "Of course, we have to restrict ourselves to $A<100$ in order to have valid covariances."
   ]
  },
  {
   "cell_type": "code",
   "execution_count": 16,
   "metadata": {},
   "outputs": [],
   "source": [
    "def get_CA(A,C0):\n",
    "    C = np.ones((ndim,ndim))\n",
    "    for i in range(0,ndim):\n",
    "        for j in range(i,ndim):\n",
    "            if i == j:\n",
    "                C[i,j] = 1\n",
    "            else:\n",
    "                C[i,j] = C[j,i] = A*1e-2\n",
    "    return C\n",
    "Cs = [get_CA(p,C0) for p in parameters]\n",
    "Ctrue = get_CA(test_parameter,C0)"
   ]
  },
  {
   "cell_type": "code",
   "execution_count": 17,
   "metadata": {},
   "outputs": [
    {
     "name": "stdout",
     "output_type": "stream",
     "text": [
      "Fractional differences in off-diagonals:\n",
      "[-1.26820996e-05 -1.26820996e-05  2.44769506e-05]\n"
     ]
    }
   ],
   "source": [
    "Emu = ce.CovEmu(parameters, Cs, NPC_D=2, NPC_L=2)\n",
    "Cpredicted = Emu.predict(test_parameter)\n",
    "print(\"Fractional differences in off-diagonals:\")\n",
    "print(get_fracdiff_in_offdiag(Ctrue,Cpredicted,ndim))"
   ]
  },
  {
   "cell_type": "markdown",
   "metadata": {},
   "source": [
    "### Hurray!\n",
    "\n",
    "The emulator worked great. With two principle components to characterize both D and L, the emulator successfully predicted the off diagonal elements without issue at high precision."
   ]
  },
  {
   "cell_type": "code",
   "execution_count": null,
   "metadata": {},
   "outputs": [],
   "source": []
  }
 ],
 "metadata": {
  "kernelspec": {
   "display_name": "Python 2",
   "language": "python",
   "name": "python2"
  },
  "language_info": {
   "codemirror_mode": {
    "name": "ipython",
    "version": 2
   },
   "file_extension": ".py",
   "mimetype": "text/x-python",
   "name": "python",
   "nbconvert_exporter": "python",
   "pygments_lexer": "ipython2",
   "version": "2.7.15"
  }
 },
 "nbformat": 4,
 "nbformat_minor": 2
}
