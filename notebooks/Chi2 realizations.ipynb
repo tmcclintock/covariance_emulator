{
 "cells": [
  {
   "cell_type": "code",
   "execution_count": 1,
   "metadata": {},
   "outputs": [],
   "source": [
    "#First import everything\n",
    "import numpy as np\n",
    "from scipy import stats\n",
    "import covariance_emulator\n",
    "import george.kernels as kernels\n",
    "import matplotlib.pyplot as plt\n",
    "%matplotlib inline"
   ]
  },
  {
   "cell_type": "code",
   "execution_count": 2,
   "metadata": {},
   "outputs": [],
   "source": [
    "plt.rc(\"text\", usetex=True)\n",
    "plt.rc(\"font\", size=28, family=\"serif\")"
   ]
  },
  {
   "cell_type": "code",
   "execution_count": 3,
   "metadata": {},
   "outputs": [],
   "source": [
    "#Read in the domain locations, or locations in parameter space\n",
    "parameters = np.loadtxt(\"cosmo_parameters.txt\")\n",
    "#Load in the covariances\n",
    "covs = np.load(\"gaussian_all_covs_withcut.npy\")\n",
    "N = len(covs) #number of cosmologies\n",
    "Npars = len(parameters[0]) #number of parameters\n",
    "dof = len(covs[0])"
   ]
  },
  {
   "cell_type": "code",
   "execution_count": 4,
   "metadata": {},
   "outputs": [],
   "source": [
    "#Let's also make realizations for NPC=19\n",
    "test_cov = covs[24]\n",
    "input_covs = np.delete(covs, 24, axis=0)\n",
    "test_parameters = parameters[24]\n",
    "input_parameters = np.delete(parameters, 24, axis=0)\n",
    "kernel_D = kernels.ExpSquaredKernel(metric=4., ndim=Npars)\n",
    "kernel_L = kernels.ExpSquaredKernel(metric=4., ndim=Npars)\n",
    "Emu = covariance_emulator.CovEmu(parameters, covs, NPC_D=19, NPC_L=19, \n",
    "                                 kernel_D = kernel_D, kernel_lp = kernel_L)\n",
    "est_cov = Emu.predict(test_parameters)"
   ]
  },
  {
   "cell_type": "code",
   "execution_count": 5,
   "metadata": {},
   "outputs": [],
   "source": [
    "def get_chi2_realizations(Ctrue, Cest, N_samples=100000):\n",
    "    means = np.zeros(len(Ctrue))\n",
    "    chi2s = np.zeros(N_samples)\n",
    "    iCest = np.linalg.inv(Cest)\n",
    "    for i in range(N_samples):\n",
    "        x = np.random.multivariate_normal(means, Ctrue)\n",
    "        #chi2s[i] = np.dot(x, np.linalg.solve(Cest, x))\n",
    "        chi2s[i] = np.dot(x, np.dot(iCest, x))\n",
    "    return chi2s"
   ]
  },
  {
   "cell_type": "code",
   "execution_count": 19,
   "metadata": {},
   "outputs": [],
   "source": [
    "chi2_realizations = get_chi2_realizations(test_cov, est_cov, 50000)"
   ]
  },
  {
   "cell_type": "code",
   "execution_count": 20,
   "metadata": {},
   "outputs": [
    {
     "data": {
      "image/png": "[encoded data removed]",
      "text/plain": [
       "<Figure size 432x288 with 1 Axes>"
      ]
     },
     "metadata": {
      "needs_background": "light"
     },
     "output_type": "display_data"
    }
   ],
   "source": [
    "fig, ax = plt.subplots()\n",
    "\n",
    "dof = len(test_cov)\n",
    "x_for_chi2 = np.linspace(min(chi2_realizations)*0.92, 1.02*max(chi2_realizations), 1000)\n",
    "ax.plot(x_for_chi2, stats.chi2.pdf(x_for_chi2, dof), c='r', label=r\"$C$\")\n",
    "ax.axvline(dof, color=\"k\", ls=\"--\")\n",
    "\n",
    "ax.hist(chi2_realizations, density=True, bins=100, \n",
    "        color='gray', alpha=0.5, zorder=-1, label=r\"$C_{E}$\")\n",
    "ax.set_xlabel(r\"$\\chi^2$\")\n",
    "ax.set_ylabel(r\"$P(\\chi^2)$\")\n",
    "ax.set_yticks([])\n",
    "ax.set_xticks([250, 300, 350, 400, 450, 500])\n",
    "ax.legend(loc=0, fontsize=24, frameon=False)\n",
    "fig.savefig(\"chi2_shifts.pdf\", bbox_inches=\"tight\")"
   ]
  },
  {
   "cell_type": "code",
   "execution_count": null,
   "metadata": {},
   "outputs": [],
   "source": []
  }
 ],
 "metadata": {
  "kernelspec": {
   "display_name": "Python 3",
   "language": "python",
   "name": "python3"
  },
  "language_info": {
   "codemirror_mode": {
    "name": "ipython",
    "version": 3
   },
   "file_extension": ".py",
   "mimetype": "text/x-python",
   "name": "python",
   "nbconvert_exporter": "python",
   "pygments_lexer": "ipython3",
   "version": "3.7.3"
  }
 },
 "nbformat": 4,
 "nbformat_minor": 2
}
