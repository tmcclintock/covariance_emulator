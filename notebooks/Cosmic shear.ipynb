{
 "cells": [
  {
   "cell_type": "markdown",
   "metadata": {},
   "source": [
    "# Emulating cosmic shear covariances\n",
    "\n",
    "Cosmic shear is the correlation of shapes of galaxies separated by some distance on the sky. The correlation of galaxies aligned with each other is designated by $\\xi_+$. In this notebook, we will build an emulator for $\\xi_+$ from a set of 25 covariances computed by Tim Eifler in a 6 dimensional parameter space (cosmology galaxy bias)."
   ]
  },
  {
   "cell_type": "code",
   "execution_count": 1,
   "metadata": {},
   "outputs": [],
   "source": [
    "import numpy as np\n",
    "import covariance_emulator\n",
    "import matplotlib.pyplot as plt\n",
    "%matplotlib inline"
   ]
  },
  {
   "cell_type": "code",
   "execution_count": 2,
   "metadata": {},
   "outputs": [],
   "source": [
    "plt.rc(\"font\", size=14, family=\"serif\")\n",
    "#plt.rc(\"text\", usetex=True)"
   ]
  },
  {
   "cell_type": "code",
   "execution_count": 3,
   "metadata": {},
   "outputs": [
    {
     "name": "stdout",
     "output_type": "stream",
     "text": [
      "(25, 6)\n"
     ]
    }
   ],
   "source": [
    "#Read in the domain locations, or locations in parameter space\n",
    "parameters = np.loadtxt(\"cosmo_parameters.txt\")[:, :6] #Remove parameters that are irrelevent here\n",
    "print(parameters.shape)"
   ]
  },
  {
   "cell_type": "code",
   "execution_count": 4,
   "metadata": {},
   "outputs": [
    {
     "name": "stdout",
     "output_type": "stream",
     "text": [
      "(25, 20, 20)\n"
     ]
    }
   ],
   "source": [
    "#Load in the covariances\n",
    "covs = np.load(\"tomo0_sub_covs.npy\")\n",
    "print(covs.shape)"
   ]
  },
  {
   "cell_type": "code",
   "execution_count": 5,
   "metadata": {},
   "outputs": [
    {
     "data": {
      "image/png": "[encoded data removed]",
      "text/plain": [
       "<Figure size 432x288 with 2 Axes>"
      ]
     },
     "metadata": {},
     "output_type": "display_data"
    }
   ],
   "source": [
    "#View the correlation matrix of the first\n",
    "def corr_from_cov(cov):\n",
    "    D = np.diag(np.sqrt(cov.diagonal()))\n",
    "    Di = np.linalg.inv(D)\n",
    "    return np.dot(Di, np.dot(cov, Di))\n",
    "\n",
    "def view_corr(cov, lncov=False):\n",
    "    R = corr_from_cov(cov)\n",
    "    fig, ax = plt.subplots()\n",
    "    if lncov:\n",
    "        R = np.log(np.fabs(cov))\n",
    "    im = ax.imshow(R, interpolation=\"nearest\", origin=\"lower\")\n",
    "    plt.colorbar(im)\n",
    "    return\n",
    "\n",
    "view_corr(covs[0])"
   ]
  },
  {
   "cell_type": "code",
   "execution_count": 6,
   "metadata": {},
   "outputs": [],
   "source": [
    "#Split off the last covariance matrix\n",
    "test_cov = covs[-1]\n",
    "test_parameters = parameters[-1]\n",
    "covs = covs[:-1]\n",
    "parameters = parameters[:-1]"
   ]
  },
  {
   "cell_type": "code",
   "execution_count": 7,
   "metadata": {},
   "outputs": [
    {
     "name": "stdout",
     "output_type": "stream",
     "text": [
      "(6,)\n"
     ]
    }
   ],
   "source": [
    "#Create an emulator\n",
    "Emu = covariance_emulator.CovEmu(parameters, covs, NPC_D=6, NPC_L=6)\n",
    "#Predict\n",
    "print(test_parameters.shape)\n",
    "Cpredicted = Emu.predict(test_parameters)"
   ]
  },
  {
   "cell_type": "code",
   "execution_count": 8,
   "metadata": {},
   "outputs": [
    {
     "data": {
      "image/png": "[encoded data removed]",
      "text/plain": [
       "<Figure size 432x288 with 2 Axes>"
      ]
     },
     "metadata": {},
     "output_type": "display_data"
    }
   ],
   "source": [
    "#View the test covariance matrix\n",
    "view_corr(Cpredicted)"
   ]
  },
  {
   "cell_type": "code",
   "execution_count": 9,
   "metadata": {},
   "outputs": [
    {
     "data": {
      "image/png": "[encoded data removed]",
      "text/plain": [
       "<Figure size 432x288 with 2 Axes>"
      ]
     },
     "metadata": {},
     "output_type": "display_data"
    }
   ],
   "source": [
    "#View the test covariance matrix\n",
    "view_corr(test_cov)"
   ]
  },
  {
   "cell_type": "code",
   "execution_count": 10,
   "metadata": {},
   "outputs": [],
   "source": [
    "#Define a function to pull out just the off-diagonals and compute the fractional differences\n",
    "def get_fracdiff_in_offdiag(C1, C2, ndim):\n",
    "    D = C1 - C2\n",
    "    out = np.zeros(int(ndim*(ndim-1)/2))\n",
    "    k = 0\n",
    "    for i in range(1,ndim):\n",
    "        for j in range(0,i):\n",
    "            out[k] = D[i,j]/C1[i,j]\n",
    "            k+=1\n",
    "    return out"
   ]
  },
  {
   "cell_type": "code",
   "execution_count": 11,
   "metadata": {},
   "outputs": [
    {
     "name": "stdout",
     "output_type": "stream",
     "text": [
      "Mean fractional differences in off-diagonals:\n",
      "(-2.4754433645201046, -94.92273764081845, 1.7514987356532967)\n",
      "Fractional differences in diagonals:\n",
      "[ 0.01188944  0.01301272  0.0143583   0.01590923  0.01773193  0.01999277\n",
      "  0.02290925  0.0267575   0.03205685  0.03951627  0.04946358  0.0620935\n",
      "  0.07650675  0.09030711  0.09965068  0.09782536  0.07962525  0.04420824\n",
      " -0.00341158 -0.0562972 ]\n",
      "0.03770529769656532\n"
     ]
    }
   ],
   "source": [
    "diff = test_cov - Cpredicted\n",
    "print(\"Mean fractional differences in off-diagonals:\")\n",
    "fracdiffs = get_fracdiff_in_offdiag(test_cov, Cpredicted, len(test_cov))\n",
    "print(np.mean(fracdiffs), np.min(fracdiffs), np.max(fracdiffs))\n",
    "print(\"Fractional differences in diagonals:\")\n",
    "print(diff.diagonal()/test_cov.diagonal())\n",
    "print(np.mean(diff.diagonal()/test_cov.diagonal()))"
   ]
  },
  {
   "cell_type": "markdown",
   "metadata": {},
   "source": [
    "It appears that the diagonals are predicted to about 4% accuracy, and the off diagonals are less accurate, but very small."
   ]
  },
  {
   "cell_type": "markdown",
   "metadata": {},
   "source": [
    "## Finding an optimal emulator\n",
    "\n",
    "The covariance emulator built above was done with the default configuration with a few principle components, but it actually has a few knobs to turn. We can control not only the number of principle components for D and L (`NPC_D, NPC_L`), but we can also create and pass in `george` kernels for both `D` and `L`. In the next cell, we will look over all reasonable options, and figure out which emulator setup is the best. As a summary statistic, we will use the total fractional difference\n",
    "$$\n",
    "S = \\sum_{i,j\\geq i} \\left|\\frac{C_{ij} - C_{ij}^{\\rm emu}}{C_{ij}}\\right|\\,.\n",
    "$$"
   ]
  },
  {
   "cell_type": "code",
   "execution_count": 12,
   "metadata": {},
   "outputs": [],
   "source": [
    "#The summary statistics function\n",
    "def total_frac_diff(C1, C2):\n",
    "    S = 0\n",
    "    for i in range(len(C1)):\n",
    "        for j in range(i, len(C1)):\n",
    "            S += np.fabs((C1[i,j] - C2[i,j])/C1[i,j])\n",
    "    return S"
   ]
  },
  {
   "cell_type": "code",
   "execution_count": 16,
   "metadata": {},
   "outputs": [
    {
     "name": "stdout",
     "output_type": "stream",
     "text": [
      "Exp2 & Exp2: 6.437301e+02\n",
      "Exp2 & Mat52: 6.471228e+02\n",
      "Exp2 & Mat32: 2.646577e+02\n",
      "Mat52 & Exp2: 6.533409e+02\n",
      "Mat52 & Mat52: 6.594720e+02\n",
      "Mat52 & Mat32: 2.726331e+02\n",
      "Mat32 & Exp2: 6.520395e+02\n",
      "Mat32 & Mat52: 6.588722e+02\n",
      "Mat32 & Mat32: 2.741525e+02\n",
      "Best combination: Exp2 & Mat32\n"
     ]
    }
   ],
   "source": [
    "import george.kernels as kernels\n",
    "kerns = [kernels.ExpSquaredKernel, kernels.Matern52Kernel, \n",
    "         kernels.Matern32Kernel]\n",
    "names = [\"Exp2\", \"Mat52\", \"Mat32\"]\n",
    "Npars = len(parameters[0])\n",
    "metric_guess = np.std(parameters, 0)\n",
    "best_S = 1e99\n",
    "best_name = \"\"\n",
    "#For now, let's just use NPC_D = NPC_L = 6\n",
    "for nameD, kd in zip(names, kerns):\n",
    "    kernel_D = 1.*kd(metric=metric_guess, ndim=Npars)\n",
    "    for nameL, kl in zip(names, kerns):\n",
    "        kernel_L = 1.*kl(metric=metric_guess, ndim=Npars)\n",
    "        Emu = covariance_emulator.CovEmu(parameters, covs, NPC_D=6, NPC_L=6, \n",
    "                                         kernel_D = kernel_D, kernel_lp = kernel_L)\n",
    "        Cpredicted = Emu.predict(test_parameters)\n",
    "        S = total_frac_diff(test_cov, Cpredicted)\n",
    "        if S < best_S:\n",
    "            best_S = S\n",
    "            best_name = \"%s & %s\"%(nameD, nameL)\n",
    "        print\"%s & %s: %e\"%(nameD, nameL, S)\n",
    "print \"Best combination: %s\"%best_name"
   ]
  },
  {
   "cell_type": "code",
   "execution_count": 17,
   "metadata": {},
   "outputs": [
    {
     "data": {
      "image/png": "[encoded data removed]",
      "text/plain": [
       "<Figure size 432x288 with 2 Axes>"
      ]
     },
     "metadata": {},
     "output_type": "display_data"
    }
   ],
   "source": [
    "#Let's visualize\n",
    "kernel_L = 1.*kernels.Matern32Kernel(metric=metric_guess, ndim=Npars)\n",
    "Emu = covariance_emulator.CovEmu(parameters, covs, NPC_D=6, NPC_L=6, kernel_lp=kernel_L)\n",
    "Cpredicted = Emu.predict(test_parameters)\n",
    "view_corr(Cpredicted)"
   ]
  },
  {
   "cell_type": "code",
   "execution_count": 18,
   "metadata": {},
   "outputs": [
    {
     "data": {
      "image/png": "[encoded data removed]",
      "text/plain": [
       "<Figure size 432x288 with 2 Axes>"
      ]
     },
     "metadata": {},
     "output_type": "display_data"
    }
   ],
   "source": [
    "view_corr(test_cov)"
   ]
  },
  {
   "cell_type": "code",
   "execution_count": null,
   "metadata": {},
   "outputs": [],
   "source": []
  }
 ],
 "metadata": {
  "kernelspec": {
   "display_name": "Python 2",
   "language": "python",
   "name": "python2"
  },
  "language_info": {
   "codemirror_mode": {
    "name": "ipython",
    "version": 2
   },
   "file_extension": ".py",
   "mimetype": "text/x-python",
   "name": "python",
   "nbconvert_exporter": "python",
   "pygments_lexer": "ipython2",
   "version": "2.7.13"
  }
 },
 "nbformat": 4,
 "nbformat_minor": 2
}
