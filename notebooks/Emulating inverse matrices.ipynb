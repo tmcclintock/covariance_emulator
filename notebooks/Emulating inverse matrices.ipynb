{
 "cells": [
  {
   "cell_type": "markdown",
   "metadata": {},
   "source": [
    "# Inverse covariance matrices\n",
    "\n",
    "In other notebooks we see that the emulator does well in predicting covariance matrices. However, parameter constraints are largely driven by $\\chi^2$, which depends on the precision matrix or inverse covariance matrix $C^{-1}$. Since precision matrices are by definition invertable, we should be able to emulate them without issue. Here we will attempt that."
   ]
  },
  {
   "cell_type": "code",
   "execution_count": 1,
   "metadata": {},
   "outputs": [],
   "source": [
    "import numpy as np\n",
    "from scipy import stats\n",
    "import covariance_emulator\n",
    "import matplotlib.pyplot as plt\n",
    "%matplotlib inline"
   ]
  },
  {
   "cell_type": "code",
   "execution_count": 2,
   "metadata": {},
   "outputs": [],
   "source": [
    "plt.rc(\"font\", size=14, family=\"serif\")\n",
    "#plt.rc(\"text\", usetex=True)"
   ]
  },
  {
   "cell_type": "code",
   "execution_count": 3,
   "metadata": {},
   "outputs": [],
   "source": [
    "#Read in the domain locations, or locations in parameter space\n",
    "parameters = np.loadtxt(\"cosmo_parameters.txt\")[:, :]\n",
    "#covs = np.load(\"tomo0_sub_covs.npy\")\n",
    "covs = np.load(\"gaussian_tomo_sub_covs.npy\")\n",
    "#covs = np.load(\"gaussian_full_covs.npy\")\n",
    "#Take only a subset\n",
    "covs = covs[:, 0:200, 0:200]\n",
    "icovs = np.array([np.linalg.inv(covs[i]) for i in range(len(covs))])"
   ]
  },
  {
   "cell_type": "code",
   "execution_count": 4,
   "metadata": {},
   "outputs": [],
   "source": [
    "#View the correlation matrix of the first\n",
    "def corr_from_cov(cov):\n",
    "    D = np.diag(np.sqrt(cov.diagonal()))\n",
    "    Di = np.linalg.inv(D)\n",
    "    return np.dot(Di, np.dot(cov, Di))\n",
    "\n",
    "def view_corr(cov, lncov=False):\n",
    "    R = corr_from_cov(cov)\n",
    "    fig, ax = plt.subplots()\n",
    "    if lncov:\n",
    "        R = np.log(np.fabs(cov))\n",
    "    im = ax.imshow(R, interpolation=\"nearest\", origin=\"lower\")\n",
    "    plt.colorbar(im)\n",
    "    return"
   ]
  },
  {
   "cell_type": "code",
   "execution_count": 5,
   "metadata": {},
   "outputs": [],
   "source": [
    "#Split off the last covariance matrix\n",
    "test_cov = covs[-1]\n",
    "test_icov = icovs[-1]\n",
    "test_parameters = parameters[-1]\n",
    "covs = covs[:-1]\n",
    "icovs = icovs[:-1]\n",
    "parameters = parameters[:-1]"
   ]
  },
  {
   "cell_type": "code",
   "execution_count": 6,
   "metadata": {},
   "outputs": [],
   "source": [
    "#Create an emulator\n",
    "Emu = covariance_emulator.CovEmu(parameters, icovs, NPC_D=6, NPC_L=6)\n",
    "iCpredicted = Emu.predict(test_parameters)"
   ]
  },
  {
   "cell_type": "code",
   "execution_count": 18,
   "metadata": {},
   "outputs": [],
   "source": [
    "#Given a covariance matrix, make realizations of the noise, and then find the optimal kernel set up\n",
    "def best_kernel_for_C(C, N_samples=1000):\n",
    "    dof = len(C)\n",
    "    means = np.zeros(dof)\n",
    "    chi2s = np.zeros(N_samples)\n",
    "    noise_realizations = np.array([np.random.multivariate_normal(means, C) for i in range(N_samples)])\n",
    "    import george.kernels as kernels\n",
    "    kerns = [kernels.ExpSquaredKernel, \n",
    "             kernels.Matern52Kernel, \n",
    "             kernels.Matern32Kernel]\n",
    "    names = [\"Exp2\", \"Mat52\", \"Mat32\"]\n",
    "    Npars = len(parameters[0])\n",
    "    metric_guess = np.std(parameters, 0)\n",
    "    #Loop over kernel combinations and compute the chi2 shift\n",
    "    best_shift = 1e99\n",
    "    best_kernels = None\n",
    "    for nameD, kd in zip(names, kerns):\n",
    "        kernel_D = 1.*kd(metric=metric_guess, ndim=Npars)\n",
    "        for nameL, kl in zip(names, kerns):\n",
    "            kernel_L = 1.*kl(metric=metric_guess, ndim=Npars)\n",
    "            Emu = covariance_emulator.CovEmu(parameters, icovs, NPC_D=6, NPC_L=6, \n",
    "                                             kernel_D = kernel_D, kernel_lp = kernel_L)\n",
    "            shift = 0\n",
    "            try:\n",
    "                iCpredicted = Emu.predict(test_parameters)\n",
    "            except np.linalg.LinAlgError:\n",
    "                shift = 1e99\n",
    "            else:\n",
    "                for i in range(N_samples):\n",
    "                    chi2s[i] = np.dot(noise_realizations[i], np.dot(iCpredicted, noise_realizations[i]))\n",
    "                    shift = np.mean(chi2s) - dof\n",
    "            if shift < best_shift and shift > 0:\n",
    "                best_shift = shift\n",
    "                best_name = \"%s %s\"%(nameD, nameL)\n",
    "                best_kernels = [kernel_D, kernel_L]\n",
    "            print(\"%s %s: %e / %d\"%(nameD, nameL, shift, dof))\n",
    "    print(\"Best combination: %s\"%best_name)\n",
    "    print(\"\\tshift/dof = %e / %d\"%(best_shift, dof))\n",
    "    return best_kernels"
   ]
  },
  {
   "cell_type": "code",
   "execution_count": 19,
   "metadata": {},
   "outputs": [
    {
     "name": "stdout",
     "output_type": "stream",
     "text": [
      "Exp2 Exp2: 1.778660e+00 / 200\n",
      "Exp2 Mat52: 1.280511e+00 / 200\n",
      "Exp2 Mat32: 4.711324e+00 / 200\n",
      "Mat52 Exp2: 1.753457e+00 / 200\n",
      "Mat52 Mat52: 1.245693e+00 / 200\n",
      "Mat52 Mat32: 4.711523e+00 / 200\n",
      "Mat32 Exp2: -4.840180e-02 / 200\n",
      "Mat32 Mat52: -5.485035e-01 / 200\n",
      "Mat32 Mat32: 2.872079e+00 / 200\n",
      "Best combination: Mat52 Mat52\n",
      "\tshift/dof = 1.245693e+00 / 200\n"
     ]
    }
   ],
   "source": [
    "best_kernels = best_kernel_for_C(test_cov)"
   ]
  },
  {
   "cell_type": "code",
   "execution_count": 30,
   "metadata": {},
   "outputs": [],
   "source": [
    "kernel_D, kernel_L = best_kernels\n",
    "Emu = covariance_emulator.CovEmu(parameters, icovs, NPC_D=6, NPC_L=6,\n",
    "                                 kernel_D = kernel_D, kernel_lp = kernel_L)\n",
    "iCpredicted = Emu.predict(test_parameters)"
   ]
  },
  {
   "cell_type": "markdown",
   "metadata": {},
   "source": [
    "## Assessing the emulator performance\n",
    "\n",
    "One of the best ways to assess the performance of the emulator is to directly compare the true covariance to the emulated covariance. In the next cell, I will draw realizations of the noise from the true covariance, and compute $\\chi^2$ values of these noises compared agains the emulated covariance. Then, by checking this against the expected distribution, we can see the performance of the emulator."
   ]
  },
  {
   "cell_type": "code",
   "execution_count": 10,
   "metadata": {},
   "outputs": [],
   "source": [
    "#Define a function where we input two covariances, and get back out a list of chi2s\n",
    "def get_chi2s_between_C_and_iC(C1, iC2, N_samples=10000):\n",
    "    means = np.zeros(len(C1))\n",
    "    chi2s = np.zeros(N_samples)\n",
    "    for i in range(N_samples):\n",
    "        x = np.random.multivariate_normal(means, C1)\n",
    "        chi2s[i] = np.dot(x, np.dot(iC2, x))\n",
    "    return chi2s\n",
    "\n",
    "dof = len(test_cov)\n",
    "x = np.linspace(dof*.7, dof*1.4, 1000)"
   ]
  },
  {
   "cell_type": "code",
   "execution_count": 11,
   "metadata": {},
   "outputs": [
    {
     "data": {
      "text/plain": [
       "Text(0.5,1,'$C_{\\\\rm true}$ vs $C_{\\\\rm true}^{-1}$')"
      ]
     },
     "execution_count": 11,
     "metadata": {},
     "output_type": "execute_result"
    },
    {
     "data": {
      "image/png": "[encoded data removed]",
      "text/plain": [
       "<Figure size 432x288 with 1 Axes>"
      ]
     },
     "metadata": {
      "needs_background": "light"
     },
     "output_type": "display_data"
    }
   ],
   "source": [
    "chi2s = get_chi2s_between_C_and_iC(test_cov, test_icov)\n",
    "plt.hist(chi2s, density=True, bins=100)\n",
    "plt.plot(x, stats.chi2.pdf(x, dof))\n",
    "plt.title(r\"$C_{\\rm true}$ vs $C_{\\rm true}^{-1}$\")"
   ]
  },
  {
   "cell_type": "code",
   "execution_count": 14,
   "metadata": {},
   "outputs": [
    {
     "name": "stdout",
     "output_type": "stream",
     "text": [
      "Chi2/dof shift = 27.69 / 200\n"
     ]
    },
    {
     "data": {
      "image/png": "[encoded data removed]",
      "text/plain": [
       "<Figure size 432x288 with 1 Axes>"
      ]
     },
     "metadata": {
      "needs_background": "light"
     },
     "output_type": "display_data"
    }
   ],
   "source": [
    "chi2s = get_chi2s_between_C_and_iC(test_cov, icovs[0], 2000)\n",
    "plt.hist(chi2s, density=True, bins=100)\n",
    "plt.plot(x, stats.chi2.pdf(x, dof))\n",
    "plt.title(r\"$C_{\\rm true}$ vs $C_{\\rm 0}^{-1}$\")\n",
    "plt.xlabel(r\"$\\chi^2$\")\n",
    "plt.axvline(dof, color=\"k\", ls=\"--\")\n",
    "ax = plt.gca()\n",
    "print(\"Chi2/dof shift = %.2f / %d\"%(np.mean(chi2s) - dof, dof))"
   ]
  },
  {
   "cell_type": "code",
   "execution_count": 31,
   "metadata": {},
   "outputs": [],
   "source": [
    "chi2s = get_chi2s_between_C_and_iC(test_cov, iCpredicted, 10000)"
   ]
  },
  {
   "cell_type": "code",
   "execution_count": 32,
   "metadata": {},
   "outputs": [
    {
     "name": "stdout",
     "output_type": "stream",
     "text": [
      "Chi2/dof shift = 1.65 / 200\n"
     ]
    },
    {
     "data": {
      "image/png": "[encoded data removed]",
      "text/plain": [
       "<Figure size 432x288 with 1 Axes>"
      ]
     },
     "metadata": {
      "needs_background": "light"
     },
     "output_type": "display_data"
    }
   ],
   "source": [
    "plt.hist(chi2s, density=True, bins=100)\n",
    "plt.plot(x, stats.chi2.pdf(x, dof))\n",
    "plt.title(r\"$C_{\\rm true}$ vs $C_{\\rm emu}^{-1}$\")\n",
    "plt.xlabel(r\"$\\chi^2$\")\n",
    "plt.axvline(dof, color=\"k\", ls=\"--\")\n",
    "ax = plt.gca()\n",
    "print(\"Chi2/dof shift = %.2f / %d\"%(np.mean(chi2s) - dof, dof))\n",
    "#plt.savefig(\"chi2_realizations.png\", dpi=300, bbox_inches=\"tight\")"
   ]
  },
  {
   "cell_type": "code",
   "execution_count": 33,
   "metadata": {},
   "outputs": [
    {
     "name": "stdout",
     "output_type": "stream",
     "text": [
      "[210.22836503 228.33780273 216.00859622 209.51622004]\n",
      "201.65367376315564\n",
      "288.0116009712819 134.2177466950104\n"
     ]
    }
   ],
   "source": [
    "print chi2s[:4]\n",
    "print np.mean(chi2s)\n",
    "print np.max(chi2s), np.min(chi2s)"
   ]
  },
  {
   "cell_type": "code",
   "execution_count": null,
   "metadata": {},
   "outputs": [],
   "source": []
  }
 ],
 "metadata": {
  "kernelspec": {
   "display_name": "Python 2",
   "language": "python",
   "name": "python2"
  },
  "language_info": {
   "codemirror_mode": {
    "name": "ipython",
    "version": 2
   },
   "file_extension": ".py",
   "mimetype": "text/x-python",
   "name": "python",
   "nbconvert_exporter": "python",
   "pygments_lexer": "ipython2",
   "version": "2.7.15"
  }
 },
 "nbformat": 4,
 "nbformat_minor": 2
}
