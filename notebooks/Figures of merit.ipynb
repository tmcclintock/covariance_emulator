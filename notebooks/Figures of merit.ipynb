{
 "cells": [
  {
   "cell_type": "markdown",
   "metadata": {},
   "source": [
    "# Figures of merit\n",
    "\n",
    "In this notebook I will do a bunch of leave-one-out tests using the suite of covariance matrices I have in order to compute the overall figures of merit. Essentially, if the noise on the data comes from a true covariance matrix $\\Sigma$, and we have an estimate of that covariance from an emulator $\\Sigma_*$, then through the leave-one-out tests we have 25 samples of the changes in any figures of merit.\n",
    "\n",
    "The quantities that I will look at are the shift in $\\chi^2$:\n",
    "$$\n",
    "\\mathbb{E}(\\Delta\\chi^2) = \\nu - \\mathrm{Tr}(\\Sigma_*^{-1}\\Sigma)\\,,\n",
    "$$\n",
    "where $\\nu=376$ is the length of the data vector, and the covariances are $\\nu\\times\\nu$ in size.\n",
    "The variance in the shift in $\\chi^2$:\n",
    "$$\n",
    "\\mathrm{Var}(\\Delta\\chi^2) = 2\\nu + 2\\mathrm{Tr}(\\Sigma_*^{-1}\\Sigma\\Sigma_*^{-1}\\Sigma) - 4\\mathrm{Tr}(\\Sigma_*^{-1}\\Sigma)\\,.\n",
    "$$\n",
    "And finally the KL divergence:\n",
    "$$\n",
    "D_{\\rm KL}(P\\ ||\\ Q) = \\frac{1}{2}\\left[\\mathrm{Tr}(\\Sigma_*^{-1}\\Sigma) + \\ln\\det(\\Sigma_*\\Sigma^{-1}) -\\nu \\right]\\,,\n",
    "$$\n",
    "where $P({\\bf x}) = \\mathcal{N}({\\bf x},0,\\Sigma)$ and $Q({\\bf x}) = \\mathcal{N}({\\bf x},0,\\Sigma_*)$ are Gaussian PDFs with the two different covariance matrices."
   ]
  },
  {
   "cell_type": "code",
   "execution_count": 1,
   "metadata": {},
   "outputs": [],
   "source": [
    "#First import everything\n",
    "import numpy as np\n",
    "from scipy import stats\n",
    "import covariance_emulator\n",
    "import george.kernels as kernels\n",
    "import matplotlib.pyplot as plt\n",
    "%matplotlib inline"
   ]
  },
  {
   "cell_type": "code",
   "execution_count": 2,
   "metadata": {},
   "outputs": [],
   "source": [
    "plt.rc(\"text\", usetex=True)\n",
    "plt.rc(\"font\", size=28, family=\"serif\")"
   ]
  },
  {
   "cell_type": "code",
   "execution_count": 3,
   "metadata": {},
   "outputs": [],
   "source": [
    "#Read in the domain locations, or locations in parameter space\n",
    "parameters = np.loadtxt(\"cosmo_parameters.txt\")\n",
    "#Load in the covariances\n",
    "covs = np.load(\"gaussian_all_covs_withcut.npy\")\n",
    "N = len(covs) #number of cosmologies\n",
    "Npars = len(parameters[0]) #number of parameters"
   ]
  },
  {
   "cell_type": "code",
   "execution_count": 4,
   "metadata": {},
   "outputs": [],
   "source": [
    "#Create functions for E(\\Delta\\chi^2), Var(\\Delta\\chi^2) and DKL(C_true, C_est)\n",
    "def expected_chi2_shift(Ctrue, Cest):\n",
    "    nu = len(Ctrue)\n",
    "    prod = np.linalg.solve(Cest, Ctrue)\n",
    "    prod = np.dot(prod, prod)\n",
    "    return nu - np.trace(prod)\n",
    "\n",
    "def variance_chi2_shift(Ctrue, Cest):\n",
    "    nu = len(Ctrue)\n",
    "    prod = np.linalg.solve(Cest, Ctrue)\n",
    "    return 2*nu + 2*np.trace(np.dot(prod, prod)) - 4*np.trace(prod)\n",
    "\n",
    "def KL_divergence(Ctrue, Cest):\n",
    "    nu = len(Ctrue)\n",
    "    prod = np.linalg.solve(Cest, Ctrue)\n",
    "    prod2 = np.linalg.solve(Ctrue, Cest)\n",
    "    return 0.5 * (np.trace(prod) + np.log(np.linalg.det(prod2)) - nu)"
   ]
  },
  {
   "cell_type": "code",
   "execution_count": 5,
   "metadata": {},
   "outputs": [
    {
     "name": "stdout",
     "output_type": "stream",
     "text": [
      "-4.861 +- 2.997\n",
      " 5.033 +- 3.156\n",
      " 0.586 +- 0.327\n"
     ]
    }
   ],
   "source": [
    "#Define a function to loop over each cosmology, and build an emulator leaving out that\n",
    "#covariance matrix. Then compute each summary statistic\n",
    "def get_all_summary_stats(metric_guess = 4., NPC_D = 10, NPC_L = 10):\n",
    "    #Create arrays to hold each of the summary statistics\n",
    "    chi2_shift = np.zeros(N)\n",
    "    chi2_var = np.zeros(N)\n",
    "    DKL = np.zeros(N)\n",
    "    for i in range(0, N):\n",
    "        test_cov = covs[i]\n",
    "        input_covs = np.delete(covs, i, axis=0)\n",
    "        test_parameters = parameters[i]\n",
    "        input_parameters = np.delete(parameters, i, axis=0)\n",
    "    \n",
    "        kernel_D = kernels.ExpSquaredKernel(metric=metric_guess, ndim=Npars)\n",
    "        kernel_L = kernels.ExpSquaredKernel(metric=metric_guess, ndim=Npars)\n",
    "        Emu = covariance_emulator.CovEmu(parameters, covs, NPC_D=NPC_D, NPC_L=NPC_L, \n",
    "                                         kernel_D = kernel_D, kernel_lp = kernel_L)\n",
    "        est_cov = Emu.predict(test_parameters)\n",
    "    \n",
    "        chi2_shift[i] = expected_chi2_shift(test_cov, est_cov)\n",
    "        chi2_var[i] = variance_chi2_shift(test_cov, est_cov)\n",
    "        DKL[i] = KL_divergence(test_cov, est_cov)\n",
    "    return chi2_shift, chi2_var, DKL\n",
    "\n",
    "chi2_shift, chi2_var, DKL = get_all_summary_stats()\n",
    "print(\"{0:6.3f} +- {1:5.3f}\".format(np.mean(chi2_shift), np.std(chi2_shift)))\n",
    "print(\"{0:6.3f} +- {1:5.3f}\".format(np.mean(chi2_var), np.std(chi2_var)))\n",
    "print(\"{0:6.3f} +- {1:5.3f}\".format(np.mean(DKL), np.std(DKL)))"
   ]
  },
  {
   "cell_type": "code",
   "execution_count": 6,
   "metadata": {},
   "outputs": [],
   "source": [
    "#Record all of these things so that we can make a plot of these statistics as a function \n",
    "#of the number of principle components\n",
    "NPCs = np.arange(5, 20+1)\n",
    "c2shifts = np.zeros((len(NPCs), N))\n",
    "c2vars = np.zeros_like(c2shifts)\n",
    "DKLs = np.zeros_like(c2shifts)"
   ]
  },
  {
   "cell_type": "code",
   "execution_count": 10,
   "metadata": {},
   "outputs": [
    {
     "ename": "KeyboardInterrupt",
     "evalue": "",
     "output_type": "error",
     "traceback": [
      "\u001b[0;31m---------------------------------------------------------------------------\u001b[0m",
      "\u001b[0;31mKeyboardInterrupt\u001b[0m                         Traceback (most recent call last)",
      "\u001b[0;32m<ipython-input-10-d25942647b8e>\u001b[0m in \u001b[0;36m<module>\u001b[0;34m\u001b[0m\n\u001b[1;32m      1\u001b[0m \u001b[0;32mfor\u001b[0m \u001b[0mi\u001b[0m\u001b[0;34m,\u001b[0m \u001b[0mnpc\u001b[0m \u001b[0;32min\u001b[0m \u001b[0menumerate\u001b[0m\u001b[0;34m(\u001b[0m\u001b[0mNPCs\u001b[0m\u001b[0;34m)\u001b[0m\u001b[0;34m:\u001b[0m\u001b[0;34m\u001b[0m\u001b[0;34m\u001b[0m\u001b[0m\n\u001b[0;32m----> 2\u001b[0;31m     \u001b[0mchi2_shift\u001b[0m\u001b[0;34m,\u001b[0m \u001b[0mchi2_var\u001b[0m\u001b[0;34m,\u001b[0m \u001b[0mDKL\u001b[0m \u001b[0;34m=\u001b[0m \u001b[0mget_all_summary_stats\u001b[0m\u001b[0;34m(\u001b[0m\u001b[0mNPC_D\u001b[0m \u001b[0;34m=\u001b[0m \u001b[0mnpc\u001b[0m\u001b[0;34m,\u001b[0m \u001b[0mNPC_L\u001b[0m \u001b[0;34m=\u001b[0m \u001b[0mnpc\u001b[0m\u001b[0;34m)\u001b[0m\u001b[0;34m\u001b[0m\u001b[0;34m\u001b[0m\u001b[0m\n\u001b[0m\u001b[1;32m      3\u001b[0m     \u001b[0mc2shifts\u001b[0m\u001b[0;34m[\u001b[0m\u001b[0mi\u001b[0m\u001b[0;34m]\u001b[0m \u001b[0;34m=\u001b[0m \u001b[0mchi2_shift\u001b[0m\u001b[0;34m\u001b[0m\u001b[0;34m\u001b[0m\u001b[0m\n\u001b[1;32m      4\u001b[0m     \u001b[0mc2vars\u001b[0m\u001b[0;34m[\u001b[0m\u001b[0mi\u001b[0m\u001b[0;34m]\u001b[0m \u001b[0;34m=\u001b[0m \u001b[0mchi2_var\u001b[0m\u001b[0;34m\u001b[0m\u001b[0;34m\u001b[0m\u001b[0m\n\u001b[1;32m      5\u001b[0m     \u001b[0mDKLs\u001b[0m\u001b[0;34m[\u001b[0m\u001b[0mi\u001b[0m\u001b[0;34m]\u001b[0m \u001b[0;34m=\u001b[0m \u001b[0mDKL\u001b[0m\u001b[0;34m\u001b[0m\u001b[0;34m\u001b[0m\u001b[0m\n",
      "\u001b[0;32m<ipython-input-5-5b4b238c1ffe>\u001b[0m in \u001b[0;36mget_all_summary_stats\u001b[0;34m(metric_guess, NPC_D, NPC_L)\u001b[0m\n\u001b[1;32m     15\u001b[0m         \u001b[0mkernel_L\u001b[0m \u001b[0;34m=\u001b[0m \u001b[0mkernels\u001b[0m\u001b[0;34m.\u001b[0m\u001b[0mExpSquaredKernel\u001b[0m\u001b[0;34m(\u001b[0m\u001b[0mmetric\u001b[0m\u001b[0;34m=\u001b[0m\u001b[0mmetric_guess\u001b[0m\u001b[0;34m,\u001b[0m \u001b[0mndim\u001b[0m\u001b[0;34m=\u001b[0m\u001b[0mNpars\u001b[0m\u001b[0;34m)\u001b[0m\u001b[0;34m\u001b[0m\u001b[0;34m\u001b[0m\u001b[0m\n\u001b[1;32m     16\u001b[0m         Emu = covariance_emulator.CovEmu(parameters, covs, NPC_D=NPC_D, NPC_L=NPC_L, \n\u001b[0;32m---> 17\u001b[0;31m                                          kernel_D = kernel_D, kernel_lp = kernel_L)\n\u001b[0m\u001b[1;32m     18\u001b[0m         \u001b[0mest_cov\u001b[0m \u001b[0;34m=\u001b[0m \u001b[0mEmu\u001b[0m\u001b[0;34m.\u001b[0m\u001b[0mpredict\u001b[0m\u001b[0;34m(\u001b[0m\u001b[0mtest_parameters\u001b[0m\u001b[0;34m)\u001b[0m\u001b[0;34m\u001b[0m\u001b[0;34m\u001b[0m\u001b[0m\n\u001b[1;32m     19\u001b[0m \u001b[0;34m\u001b[0m\u001b[0m\n",
      "\u001b[0;32m//anaconda3/lib/python3.7/site-packages/covariance_emulator-0.0.0-py3.7.egg/covariance_emulator/covariance_emulator.py\u001b[0m in \u001b[0;36m__init__\u001b[0;34m(self, parameters, covariance_matrices, NPC_D, NPC_L, kernel_D, kernel_lp)\u001b[0m\n\u001b[1;32m     58\u001b[0m         \u001b[0;31m#Call methods that start to build the emulator\u001b[0m\u001b[0;34m\u001b[0m\u001b[0;34m\u001b[0m\u001b[0;34m\u001b[0m\u001b[0m\n\u001b[1;32m     59\u001b[0m         \u001b[0mself\u001b[0m\u001b[0;34m.\u001b[0m\u001b[0mbreakdown_matrices\u001b[0m\u001b[0;34m(\u001b[0m\u001b[0;34m)\u001b[0m\u001b[0;34m\u001b[0m\u001b[0;34m\u001b[0m\u001b[0m\n\u001b[0;32m---> 60\u001b[0;31m         \u001b[0mself\u001b[0m\u001b[0;34m.\u001b[0m\u001b[0mcreate_training_data\u001b[0m\u001b[0;34m(\u001b[0m\u001b[0;34m)\u001b[0m\u001b[0;34m\u001b[0m\u001b[0;34m\u001b[0m\u001b[0m\n\u001b[0m\u001b[1;32m     61\u001b[0m         \u001b[0mself\u001b[0m\u001b[0;34m.\u001b[0m\u001b[0mbuild_emulator\u001b[0m\u001b[0;34m(\u001b[0m\u001b[0;34m)\u001b[0m\u001b[0;34m\u001b[0m\u001b[0;34m\u001b[0m\u001b[0m\n\u001b[1;32m     62\u001b[0m         \u001b[0mself\u001b[0m\u001b[0;34m.\u001b[0m\u001b[0mtrain_emulator\u001b[0m\u001b[0;34m(\u001b[0m\u001b[0;34m)\u001b[0m\u001b[0;34m\u001b[0m\u001b[0;34m\u001b[0m\u001b[0m\n",
      "\u001b[0;32m//anaconda3/lib/python3.7/site-packages/covariance_emulator-0.0.0-py3.7.egg/covariance_emulator/covariance_emulator.py\u001b[0m in \u001b[0;36mcreate_training_data\u001b[0;34m(self)\u001b[0m\n\u001b[1;32m    124\u001b[0m             \u001b[0;32mreturn\u001b[0m \u001b[0mws\u001b[0m\u001b[0;34m,\u001b[0m \u001b[0mphis\u001b[0m\u001b[0;34m\u001b[0m\u001b[0;34m\u001b[0m\u001b[0m\n\u001b[1;32m    125\u001b[0m         \u001b[0mws_d\u001b[0m\u001b[0;34m,\u001b[0m \u001b[0mphis_d\u001b[0m \u001b[0;34m=\u001b[0m \u001b[0mcompute_ws_and_phis\u001b[0m\u001b[0;34m(\u001b[0m\u001b[0mself\u001b[0m\u001b[0;34m.\u001b[0m\u001b[0mds\u001b[0m\u001b[0;34m,\u001b[0m \u001b[0mNPC_D\u001b[0m\u001b[0;34m)\u001b[0m\u001b[0;34m\u001b[0m\u001b[0;34m\u001b[0m\u001b[0m\n\u001b[0;32m--> 126\u001b[0;31m         \u001b[0mws_l\u001b[0m\u001b[0;34m,\u001b[0m \u001b[0mphis_l\u001b[0m \u001b[0;34m=\u001b[0m \u001b[0mcompute_ws_and_phis\u001b[0m\u001b[0;34m(\u001b[0m\u001b[0mself\u001b[0m\u001b[0;34m.\u001b[0m\u001b[0mlps\u001b[0m\u001b[0;34m,\u001b[0m \u001b[0mNPC_L\u001b[0m\u001b[0;34m)\u001b[0m\u001b[0;34m\u001b[0m\u001b[0;34m\u001b[0m\u001b[0m\n\u001b[0m\u001b[1;32m    127\u001b[0m         \u001b[0;31m#Save the weights and PCs\u001b[0m\u001b[0;34m\u001b[0m\u001b[0;34m\u001b[0m\u001b[0;34m\u001b[0m\u001b[0m\n\u001b[1;32m    128\u001b[0m         \u001b[0mself\u001b[0m\u001b[0;34m.\u001b[0m\u001b[0mws_d\u001b[0m \u001b[0;34m=\u001b[0m \u001b[0mws_d\u001b[0m\u001b[0;34m\u001b[0m\u001b[0;34m\u001b[0m\u001b[0m\n",
      "\u001b[0;32m//anaconda3/lib/python3.7/site-packages/covariance_emulator-0.0.0-py3.7.egg/covariance_emulator/covariance_emulator.py\u001b[0m in \u001b[0;36mcompute_ws_and_phis\u001b[0;34m(A, Npc)\u001b[0m\n\u001b[1;32m    116\u001b[0m         \u001b[0;31m#Perform PCA to create weights and principle components\u001b[0m\u001b[0;34m\u001b[0m\u001b[0;34m\u001b[0m\u001b[0;34m\u001b[0m\u001b[0m\n\u001b[1;32m    117\u001b[0m         \u001b[0;32mdef\u001b[0m \u001b[0mcompute_ws_and_phis\u001b[0m\u001b[0;34m(\u001b[0m\u001b[0mA\u001b[0m\u001b[0;34m,\u001b[0m \u001b[0mNpc\u001b[0m\u001b[0;34m)\u001b[0m\u001b[0;34m:\u001b[0m\u001b[0;34m\u001b[0m\u001b[0;34m\u001b[0m\u001b[0m\n\u001b[0;32m--> 118\u001b[0;31m             \u001b[0mu\u001b[0m\u001b[0;34m,\u001b[0m \u001b[0ms\u001b[0m\u001b[0;34m,\u001b[0m \u001b[0mv\u001b[0m \u001b[0;34m=\u001b[0m \u001b[0mnp\u001b[0m\u001b[0;34m.\u001b[0m\u001b[0mlinalg\u001b[0m\u001b[0;34m.\u001b[0m\u001b[0msvd\u001b[0m\u001b[0;34m(\u001b[0m\u001b[0mA\u001b[0m\u001b[0;34m,\u001b[0m \u001b[0;36m0\u001b[0m\u001b[0;34m)\u001b[0m \u001b[0;31m#Do the PCA\u001b[0m\u001b[0;34m\u001b[0m\u001b[0;34m\u001b[0m\u001b[0m\n\u001b[0m\u001b[1;32m    119\u001b[0m             \u001b[0ms\u001b[0m \u001b[0;34m=\u001b[0m \u001b[0mnp\u001b[0m\u001b[0;34m.\u001b[0m\u001b[0mdiag\u001b[0m\u001b[0;34m(\u001b[0m\u001b[0ms\u001b[0m\u001b[0;34m)\u001b[0m\u001b[0;34m\u001b[0m\u001b[0;34m\u001b[0m\u001b[0m\n\u001b[1;32m    120\u001b[0m             \u001b[0mN\u001b[0m \u001b[0;34m=\u001b[0m \u001b[0mlen\u001b[0m\u001b[0;34m(\u001b[0m\u001b[0ms\u001b[0m\u001b[0;34m)\u001b[0m\u001b[0;34m\u001b[0m\u001b[0;34m\u001b[0m\u001b[0m\n",
      "\u001b[0;32m//anaconda3/lib/python3.7/site-packages/numpy/linalg/linalg.py\u001b[0m in \u001b[0;36msvd\u001b[0;34m(a, full_matrices, compute_uv)\u001b[0m\n\u001b[1;32m   1610\u001b[0m \u001b[0;34m\u001b[0m\u001b[0m\n\u001b[1;32m   1611\u001b[0m         \u001b[0msignature\u001b[0m \u001b[0;34m=\u001b[0m \u001b[0;34m'D->DdD'\u001b[0m \u001b[0;32mif\u001b[0m \u001b[0misComplexType\u001b[0m\u001b[0;34m(\u001b[0m\u001b[0mt\u001b[0m\u001b[0;34m)\u001b[0m \u001b[0;32melse\u001b[0m \u001b[0;34m'd->ddd'\u001b[0m\u001b[0;34m\u001b[0m\u001b[0;34m\u001b[0m\u001b[0m\n\u001b[0;32m-> 1612\u001b[0;31m         \u001b[0mu\u001b[0m\u001b[0;34m,\u001b[0m \u001b[0ms\u001b[0m\u001b[0;34m,\u001b[0m \u001b[0mvh\u001b[0m \u001b[0;34m=\u001b[0m \u001b[0mgufunc\u001b[0m\u001b[0;34m(\u001b[0m\u001b[0ma\u001b[0m\u001b[0;34m,\u001b[0m \u001b[0msignature\u001b[0m\u001b[0;34m=\u001b[0m\u001b[0msignature\u001b[0m\u001b[0;34m,\u001b[0m \u001b[0mextobj\u001b[0m\u001b[0;34m=\u001b[0m\u001b[0mextobj\u001b[0m\u001b[0;34m)\u001b[0m\u001b[0;34m\u001b[0m\u001b[0;34m\u001b[0m\u001b[0m\n\u001b[0m\u001b[1;32m   1613\u001b[0m         \u001b[0mu\u001b[0m \u001b[0;34m=\u001b[0m \u001b[0mu\u001b[0m\u001b[0;34m.\u001b[0m\u001b[0mastype\u001b[0m\u001b[0;34m(\u001b[0m\u001b[0mresult_t\u001b[0m\u001b[0;34m,\u001b[0m \u001b[0mcopy\u001b[0m\u001b[0;34m=\u001b[0m\u001b[0;32mFalse\u001b[0m\u001b[0;34m)\u001b[0m\u001b[0;34m\u001b[0m\u001b[0;34m\u001b[0m\u001b[0m\n\u001b[1;32m   1614\u001b[0m         \u001b[0ms\u001b[0m \u001b[0;34m=\u001b[0m \u001b[0ms\u001b[0m\u001b[0;34m.\u001b[0m\u001b[0mastype\u001b[0m\u001b[0;34m(\u001b[0m\u001b[0m_realType\u001b[0m\u001b[0;34m(\u001b[0m\u001b[0mresult_t\u001b[0m\u001b[0;34m)\u001b[0m\u001b[0;34m,\u001b[0m \u001b[0mcopy\u001b[0m\u001b[0;34m=\u001b[0m\u001b[0;32mFalse\u001b[0m\u001b[0;34m)\u001b[0m\u001b[0;34m\u001b[0m\u001b[0;34m\u001b[0m\u001b[0m\n",
      "\u001b[0;31mKeyboardInterrupt\u001b[0m: "
     ]
    }
   ],
   "source": [
    "for i, npc in enumerate(NPCs):\n",
    "    chi2_shift, chi2_var, DKL = get_all_summary_stats(NPC_D = npc, NPC_L = npc)\n",
    "    c2shifts[i] = chi2_shift\n",
    "    c2vars[i] = chi2_var\n",
    "    DKLs[i] = DKL"
   ]
  },
  {
   "cell_type": "code",
   "execution_count": null,
   "metadata": {},
   "outputs": [],
   "source": [
    "fig, axes = plt.subplots(ncols=1, nrows=3, sharex=True, figsize=(8,14))\n",
    "plt.subplots_adjust(hspace=0.02)\n",
    "\n",
    "def add_band(ax, x, cut=6, c='b'):\n",
    "    ax.plot(NPCs[cut:], np.mean(x[cut:], 1), c=c)\n",
    "    ax.fill_between(NPCs[cut:], \n",
    "                    np.mean(x[cut:], 1) - np.std(x[cut:], 1), \n",
    "                    np.mean(x[cut:], 1) + np.std(x[cut:], 1), \n",
    "                    color=c, alpha=0.3)\n",
    "    ax.axhline(0, c='k', ls='--')\n",
    "\n",
    "def add_scatter(ax, x, cut=6):\n",
    "    for i, npc in enumerate(NPCs[cut:]):\n",
    "        ax.scatter(npc*np.ones_like(x[i+cut]), x[i+cut], color='k', marker='.', s=10)\n",
    "    ax.axhline(0, c='k', ls='--')\n",
    "\n",
    "cut = 6\n",
    "add_band(axes[0], c2shifts, cut)\n",
    "add_band(axes[1], c2vars, cut)\n",
    "add_band(axes[2], DKLs, cut)\n",
    "add_scatter(axes[0], c2shifts, cut)\n",
    "add_scatter(axes[1], c2vars, cut)\n",
    "add_scatter(axes[2], DKLs, cut)\n",
    "\n",
    "axes[0].set_ylabel(r\"$\\mathrm{E}(\\Delta\\chi^2)$\")\n",
    "axes[1].set_ylabel(r\"${\\rm Var}(\\Delta\\chi^2)$\")\n",
    "axes[2].set_ylabel(r\"$D_{\\rm KL}$\")\n",
    "axes[2].set_xlabel(r\"$N_{\\rm PC}$\")\n",
    "fig.savefig(\"figures_of_merit.pdf\", bbox_inches=\"tight\")"
   ]
  },
  {
   "cell_type": "code",
   "execution_count": 11,
   "metadata": {},
   "outputs": [
    {
     "name": "stdout",
     "output_type": "stream",
     "text": [
      "-0.399 +- -0.399\n",
      " 0.400 +-  0.400\n",
      " 0.050 +-  0.050\n"
     ]
    }
   ],
   "source": [
    "print(\"{0:6.3f} +- {0:6.3f}\".format(np.mean(c2shifts[-2]), np.std(c2shifts[-2])))\n",
    "print(\"{0:6.3f} +- {0:6.3f}\".format(np.mean(c2vars[-2]), np.std(c2vars[-2])))\n",
    "print(\"{0:6.3f} +- {0:6.3f}\".format(np.mean(DKLs[-2]), np.std(DKLs[-2])))"
   ]
  },
  {
   "cell_type": "code",
   "execution_count": null,
   "metadata": {},
   "outputs": [],
   "source": []
  }
 ],
 "metadata": {
  "kernelspec": {
   "display_name": "Python 3",
   "language": "python",
   "name": "python3"
  },
  "language_info": {
   "codemirror_mode": {
    "name": "ipython",
    "version": 3
   },
   "file_extension": ".py",
   "mimetype": "text/x-python",
   "name": "python",
   "nbconvert_exporter": "python",
   "pygments_lexer": "ipython3",
   "version": "3.7.3"
  }
 },
 "nbformat": 4,
 "nbformat_minor": 2
}
